{
  "nbformat": 4,
  "nbformat_minor": 0,
  "metadata": {
    "colab": {
      "provenance": [],
      "authorship_tag": "ABX9TyMSIrX3wZ699Wi32m8Vl10U"
    },
    "kernelspec": {
      "name": "python3",
      "display_name": "Python 3"
    },
    "language_info": {
      "name": "python"
    }
  },
  "cells": [
    {
      "cell_type": "markdown",
      "source": [
        "# Python Hello World\n",
        "\n",
        "```\n",
        "# This is formatted as code inside the Text Section\n",
        "```\n"
      ],
      "metadata": {
        "id": "5ukBFkbNvO4d"
      }
    },
    {
      "cell_type": "code",
      "execution_count": null,
      "metadata": {
        "id": "AqCCSQemPdyp"
      },
      "outputs": [],
      "source": [
        "print(\"Hello World!\")\n",
        "\n",
        "# With a variable\n",
        "message = \"Hello Python!\"\n",
        "print(message)"
      ]
    }
  ]
}
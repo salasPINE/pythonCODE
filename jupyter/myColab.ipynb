{
  "nbformat": 4,
  "nbformat_minor": 0,
  "metadata": {
    "colab": {
      "provenance": [],
      "toc_visible": true,
      "authorship_tag": "ABX9TyMSIrX3wZ699Wi32m8Vl10U",
      "include_colab_link": true
    },
    "kernelspec": {
      "name": "python3",
      "display_name": "Python 3"
    },
    "language_info": {
      "name": "python"
    }
  },
  "cells": [
    {
      "cell_type": "markdown",
      "metadata": {
        "id": "view-in-github",
        "colab_type": "text"
      },
      "source": [
        "<a href=\"https://colab.research.google.com/github/salasPINE/pythonCODE/blob/main/jupyter/myColab.ipynb\" target=\"_parent\"><img src=\"https://colab.research.google.com/assets/colab-badge.svg\" alt=\"Open In Colab\"/></a>"
      ]
    },
    {
      "cell_type": "markdown",
      "source": [
        "# Python Hello World\n",
        "\n",
        "```\n",
        "# This is formatted as code inside the Text Section\n",
        "```\n"
      ],
      "metadata": {
        "id": "5ukBFkbNvO4d"
      }
    },
    {
      "cell_type": "code",
      "execution_count": null,
      "metadata": {
        "id": "AqCCSQemPdyp"
      },
      "outputs": [],
      "source": [
        "print(\"Hello World!\")\n",
        "\n",
        "# With a variable\n",
        "message = \"Hello Python!\"\n",
        "print(message)"
      ]
    }
  ]
}
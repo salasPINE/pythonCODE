{
  "nbformat": 4,
  "nbformat_minor": 0,
  "metadata": {
    "colab": {
      "provenance": [],
      "toc_visible": true,
      "authorship_tag": "ABX9TyMf/gxxAXlnXtdhcP7dNkjQ"
    },
    "kernelspec": {
      "name": "python3",
      "display_name": "Python 3"
    },
    "language_info": {
      "name": "python"
    }
  },
  "cells": [
    {
      "cell_type": "markdown",
      "source": [
        "# Python Hello World\n",
        "\n",
        "```python\n",
        "# This is formatted as code inside the Text Section\n",
        "print(\"Hello World!\")\n",
        "\n",
        "# With a variable\n",
        "message = \"Hello Python!\"\n",
        "print(message)\n",
        "```\n"
      ],
      "metadata": {
        "id": "5ukBFkbNvO4d"
      }
    },
    {
      "cell_type": "code",
      "source": [
        "# Hello World\n",
        "print(\"Hello World!\")\n",
        "\n",
        "# With a variable\n",
        "message = \"Hello Python!\"\n",
        "print(message)"
      ],
      "metadata": {
        "id": "fhOwB_XCrSiw"
      },
      "execution_count": null,
      "outputs": []
    },
    {
      "cell_type": "code",
      "source": [
        "name = input(\"What is your name? \")\n",
        "print(\"Hello\", name)"
      ],
      "metadata": {
        "id": "pkDB24HsaVZv"
      },
      "execution_count": null,
      "outputs": []
    }
  ]
}
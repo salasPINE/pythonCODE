{
  "nbformat": 4,
  "nbformat_minor": 0,
  "metadata": {
    "colab": {
      "provenance": [],
      "authorship_tag": "ABX9TyPhbxl0tXhoCFPJ9F5ITBNZ",
      "include_colab_link": true
    },
    "kernelspec": {
      "name": "python3",
      "display_name": "Python 3"
    },
    "language_info": {
      "name": "python"
    }
  },
  "cells": [
    {
      "cell_type": "markdown",
      "metadata": {
        "id": "view-in-github",
        "colab_type": "text"
      },
      "source": [
        "<a href=\"https://colab.research.google.com/github/salasPINE/pythonCODE/blob/main/jupyter/pcc_ch2.ipynb\" target=\"_parent\"><img src=\"https://colab.research.google.com/assets/colab-badge.svg\" alt=\"Open In Colab\"/></a>"
      ]
    },
    {
      "cell_type": "markdown",
      "source": [
        "# **CHAPTER 2**"
      ],
      "metadata": {
        "id": "BC5-4kDGZVG6"
      }
    },
    {
      "cell_type": "markdown",
      "source": [
        "# Hello World Examples"
      ],
      "metadata": {
        "id": "JzNQ2z9lZ7Jy"
      }
    },
    {
      "cell_type": "code",
      "execution_count": null,
      "metadata": {
        "id": "BP__QwvjZQdz"
      },
      "outputs": [],
      "source": [
        "# My First Program\n",
        "# Prime Zu\n",
        "\n",
        "# Shows Hello World in the output\n",
        "print(\"Hello World!\")\n",
        "print('Hello World Again!')\n",
        "\n",
        "# This produces a blank line\n",
        "print()\n",
        "# More Hello World Quote Examples\n",
        "print(\"Hello World Problem\")\n",
        "print(\"I don't like using mixed quotes\")\n",
        "print('Using \"quotes\" is sometimes necessary')"
      ]
    },
    {
      "cell_type": "code",
      "source": [
        "# Hello World Chapter 2\n",
        "# Prime Zu\n",
        "\n",
        "# Variables\n",
        "fruit1 = \"Peach\"\n",
        "fruit2 = \"Orange\"\n",
        "fruit3 = \"Banana\"\n",
        "fruit4 = \"Kiwi\"\n",
        "\n",
        "# This prints them one line each\n",
        "print(fruit1)\n",
        "print(fruit2)\n",
        "print(fruit3)\n",
        "print(fruit4)\n",
        "# This prints them on one line\n",
        "print(fruit1, fruit2, fruit3, fruit4)"
      ],
      "metadata": {
        "colab": {
          "base_uri": "https://localhost:8080/"
        },
        "id": "JpI1VfjyZnXb",
        "outputId": "f5af7776-e729-4b58-805b-f721cfd6dac4"
      },
      "execution_count": null,
      "outputs": [
        {
          "output_type": "stream",
          "name": "stdout",
          "text": [
            "Peach\n",
            "Orange\n",
            "Banana\n",
            "Kiwi\n",
            "Peach Orange Banana Kiwi\n"
          ]
        }
      ]
    }
  ]
}
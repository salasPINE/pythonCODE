{
  "nbformat": 4,
  "nbformat_minor": 0,
  "metadata": {
    "colab": {
      "provenance": [],
      "toc_visible": true,
      "authorship_tag": "ABX9TyPMKHGftZhvFmOEBdV1p9UM",
      "include_colab_link": true
    },
    "kernelspec": {
      "name": "python3",
      "display_name": "Python 3"
    },
    "language_info": {
      "name": "python"
    }
  },
  "cells": [
    {
      "cell_type": "markdown",
      "metadata": {
        "id": "view-in-github",
        "colab_type": "text"
      },
      "source": [
        "<a href=\"https://colab.research.google.com/github/salasPINE/pythonCODE/blob/main/pccj/pcc_ch2_ex.ipynb\" target=\"_parent\"><img src=\"https://colab.research.google.com/assets/colab-badge.svg\" alt=\"Open In Colab\"/></a>"
      ]
    },
    {
      "cell_type": "markdown",
      "source": [
        "# **Chapter 2 Exercises**"
      ],
      "metadata": {
        "id": "EbXSfCYQ85RB"
      }
    },
    {
      "cell_type": "markdown",
      "source": [
        "# p19"
      ],
      "metadata": {
        "id": "vIqEj4T78_UV"
      }
    },
    {
      "cell_type": "markdown",
      "source": [
        "**2-1 Simple Message**\n",
        "\n",
        "Assign a message to a variable, and then print that message."
      ],
      "metadata": {
        "id": "hKZ34sMI-io5"
      }
    },
    {
      "cell_type": "code",
      "execution_count": 14,
      "metadata": {
        "id": "8HfOiQHU82p7",
        "outputId": "8d24154d-a017-423b-eb6f-142479595de0",
        "colab": {
          "base_uri": "https://localhost:8080/"
        }
      },
      "outputs": [
        {
          "output_type": "stream",
          "name": "stdout",
          "text": [
            "I love learning to use Python.\n"
          ]
        }
      ],
      "source": [
        "# 2.1 Simple Message\n",
        "\n",
        "msg = \"I love learning to use Python.\"\n",
        "print(msg)"
      ]
    },
    {
      "cell_type": "markdown",
      "source": [
        "**2-2 Simple Messages**\n",
        "\n",
        "Assign a message to a variable, and print that message. Then change the value of the variable to a new message, and print the new message."
      ],
      "metadata": {
        "id": "inxB6tWa-vh2"
      }
    },
    {
      "cell_type": "code",
      "source": [
        "# 2.2 Simple Messages\n",
        "\n",
        "msg = \"I love learning to use Python.\"\n",
        "print(msg)\n",
        "\n",
        "msg = \"It's really satisfying!\"\n",
        "print(msg)"
      ],
      "metadata": {
        "id": "tcIYHsHj-Ga4",
        "outputId": "15febc24-baa3-4d64-dd73-08f84e6ecd10",
        "colab": {
          "base_uri": "https://localhost:8080/"
        }
      },
      "execution_count": 15,
      "outputs": [
        {
          "output_type": "stream",
          "name": "stdout",
          "text": [
            "I love learning to use Python.\n",
            "It's really satisfying!\n"
          ]
        }
      ]
    },
    {
      "cell_type": "markdown",
      "source": [
        "# p25"
      ],
      "metadata": {
        "id": "zDBPQ98TAaHp"
      }
    },
    {
      "cell_type": "markdown",
      "source": [
        "**2-3 Personal Message**\n",
        "\n",
        "Use a variable to represent a person’s name, and print a message to that person. Your message should be simple, such as, “Hello Eric, would you like to learn some Python today?”"
      ],
      "metadata": {
        "id": "tbOFj9vq_DI-"
      }
    },
    {
      "cell_type": "code",
      "source": [
        "# 2.3 Personal Message\n",
        "\n",
        "name = \"Prime\"\n",
        "msg = f\"Hello {name.title()}, would you like to learn some Python today?\"\n",
        "\n",
        "print(msg)"
      ],
      "metadata": {
        "id": "Rw3teboJ-TaQ",
        "outputId": "bd32aea9-a4ba-4cdf-8e62-b36918b5ca71",
        "colab": {
          "base_uri": "https://localhost:8080/"
        }
      },
      "execution_count": 16,
      "outputs": [
        {
          "output_type": "stream",
          "name": "stdout",
          "text": [
            "Hello Prime, would you like to learn some Python today?\n"
          ]
        }
      ]
    },
    {
      "cell_type": "markdown",
      "source": [
        "**2-4 Name Cases**\n",
        "\n",
        "Use a variable to represent a persons name, and then print that persons name in lowercase, uppercase, and title case."
      ],
      "metadata": {
        "id": "AdKSwpyl_arx"
      }
    },
    {
      "cell_type": "code",
      "source": [
        "# 2.4 Name Cases\n",
        "\n",
        "name = \"Prime Zu\"\n",
        "\n",
        "print(name.lower())\n",
        "print(name.upper())\n",
        "print(name.title())"
      ],
      "metadata": {
        "id": "0SwgrgoT_WYo",
        "outputId": "02d79b66-5b44-4b97-f193-ff07baf403f9",
        "colab": {
          "base_uri": "https://localhost:8080/"
        }
      },
      "execution_count": 17,
      "outputs": [
        {
          "output_type": "stream",
          "name": "stdout",
          "text": [
            "prime zu\n",
            "PRIME ZU\n",
            "Prime Zu\n"
          ]
        }
      ]
    },
    {
      "cell_type": "markdown",
      "source": [
        "**2-5 Famous Quote**\n",
        "\n",
        "Find a quote from a famous person you admire. Print the quote and the name of its author. Your output should look something like the following, including the quotation marks:\n",
        "\n",
        "`Albert Einstein once said, \"A person who never made a mistake never tried anything new.\"`"
      ],
      "metadata": {
        "id": "00XB5uez_2uz"
      }
    },
    {
      "cell_type": "code",
      "source": [
        "# 2.5 Famous Quote\n",
        "\n",
        "print('Albert Einstein once said, \"A person who never made a mistake')\n",
        "print('never tried anything new.\"')\n",
        "\n",
        "print()"
      ],
      "metadata": {
        "id": "4vDJ_F2GARPP",
        "outputId": "eccb8832-04f7-42f1-af67-d360e6d6b88f",
        "colab": {
          "base_uri": "https://localhost:8080/"
        }
      },
      "execution_count": 18,
      "outputs": [
        {
          "output_type": "stream",
          "name": "stdout",
          "text": [
            "Albert Einstein once said, \"A person who never made a mistake\n",
            "never tried anything new.\"\n",
            "\n"
          ]
        }
      ]
    },
    {
      "cell_type": "markdown",
      "source": [
        "**2-6 Famous Quote 2**\n",
        "\n",
        "Repeat Exercise 2-5, but this time, represent the famous persons name using a variable called famous_person. Then compose your message and represent it with a new variable called message. Print your message."
      ],
      "metadata": {
        "id": "cgeMq8NVAZ8v"
      }
    },
    {
      "cell_type": "code",
      "source": [
        "# 2.6 Famous Quote 2\n",
        "\n",
        "famous_person = \"Douglas Adams\"\n",
        "\n",
        "message = f\"{famous_person} once said, 'I refuse to answer that question on the grounds that I don't know the answer.'\"\n",
        "\n",
        "print(message)\n",
        "\n",
        "print()\n",
        "# author and quote are both variable\n",
        "author = \"douglas adams\"\n",
        "quote = \"'I refuse to answer that question on the grounds that I don't know the answer'\"\n",
        "print(f\"{quote} - {author.title()}\")"
      ],
      "metadata": {
        "id": "e9UNuAgXAaJj",
        "outputId": "f3235e7e-9ce2-4b77-db01-b3f36a5ebb96",
        "colab": {
          "base_uri": "https://localhost:8080/"
        }
      },
      "execution_count": 19,
      "outputs": [
        {
          "output_type": "stream",
          "name": "stdout",
          "text": [
            "Douglas Adams once said, 'I refuse to answer that question on the grounds that I don't know the answer.'\n",
            "\n",
            "'I refuse to answer that question on the grounds that I don't know the answer' - Douglas Adams\n"
          ]
        }
      ]
    },
    {
      "cell_type": "markdown",
      "source": [
        "**2-7 Stripping Names**\n",
        "\n",
        "Use a variable to represent a persons name, and include some whitespace characters at the beginning and end of the name. Make sure you use each character combination, \"\\t\" and \"\\n\", at least once.\n",
        "\n",
        "Print the name once, so the whitespace around the name is displayed. Then print the name using each of the three stripping functions, lstrip(), rstrip(), and strip()."
      ],
      "metadata": {
        "id": "BBhMyoZ1A9i6"
      }
    },
    {
      "cell_type": "code",
      "source": [
        "# 2.7 Stripping Names\n",
        "\n",
        "name = \"\\tJorge Salas\\n\"\n",
        "\n",
        "print(\"Unmodified:\")\n",
        "print(name)\n",
        "\n",
        "print(\"\\nUsing lstrip():\")\n",
        "print(name.lstrip())\n",
        "\n",
        "print(\"\\nUsing rstrip():\")\n",
        "print(name.rstrip())\n",
        "\n",
        "print(\"\\nUsing strip():\")\n",
        "print(name.strip())"
      ],
      "metadata": {
        "id": "lC7CKBnxBO6i",
        "outputId": "a2152060-1a83-4119-d139-8b479f764b71",
        "colab": {
          "base_uri": "https://localhost:8080/"
        }
      },
      "execution_count": 20,
      "outputs": [
        {
          "output_type": "stream",
          "name": "stdout",
          "text": [
            "Unmodified:\n",
            "\tJorge Salas\n",
            "\n",
            "\n",
            "Using lstrip():\n",
            "Jorge Salas\n",
            "\n",
            "\n",
            "Using rstrip():\n",
            "\tJorge Salas\n",
            "\n",
            "Using strip():\n",
            "Jorge Salas\n"
          ]
        }
      ]
    },
    {
      "cell_type": "markdown",
      "source": [
        "**2-8 File Extensions**\n",
        "\n",
        "Python has a removesuffix() method that works exactly like removeprefix(). Assign the value 'python_notes.txt' to a variable called filename. Then use the removesuffix() method to display the filename without the file extension, like some file browsers do."
      ],
      "metadata": {
        "id": "hrG4B6lnB4XX"
      }
    },
    {
      "cell_type": "code",
      "source": [
        "# 2.8 File Extensions\n",
        "\n",
        "filename = 'python_notes.txt'\n",
        "simple_filename = filename.removesuffix('.txt')\n",
        "\n",
        "print(simple_filename)"
      ],
      "metadata": {
        "colab": {
          "base_uri": "https://localhost:8080/"
        },
        "id": "IO2j0CX-B5wE",
        "outputId": "83537639-a740-4b19-e43b-5a1a1e04b9a8"
      },
      "execution_count": 21,
      "outputs": [
        {
          "output_type": "stream",
          "name": "stdout",
          "text": [
            "python_notes\n"
          ]
        }
      ]
    },
    {
      "cell_type": "markdown",
      "source": [
        "# p29"
      ],
      "metadata": {
        "id": "Usgdu9nFBjIO"
      }
    },
    {
      "cell_type": "markdown",
      "source": [
        "**2-9 Number Eight**\n",
        "\n",
        "Write addition, subtraction, multiplication, and division operations that each result in the number 8. Be sure to enclose your operations in print() calls to see the results.\n",
        "\n",
        "You should create four lines that look like this: `print(5+3)`\n",
        "\n",
        "Your output should be four lines, with the number 8 appearing once on each line."
      ],
      "metadata": {
        "id": "A-r-Zl1HBmXw"
      }
    },
    {
      "cell_type": "code",
      "source": [
        "# 2.9 Number Eight\n",
        "\n",
        "print(\"Addition:\")\n",
        "print(4 + 4)\n",
        "print(\"Subtraction:\")\n",
        "print(20 - 12)\n",
        "print(\"Multiplication:\")\n",
        "print(2 * 4)\n",
        "print(\"Division:\")\n",
        "print(80 / 10)"
      ],
      "metadata": {
        "id": "yYzhntZjB_9W",
        "outputId": "51e4ccac-1fbb-4da4-912f-3e0861e96f36",
        "colab": {
          "base_uri": "https://localhost:8080/"
        }
      },
      "execution_count": 22,
      "outputs": [
        {
          "output_type": "stream",
          "name": "stdout",
          "text": [
            "Addition:\n",
            "8\n",
            "Subtraction:\n",
            "8\n",
            "Multiplication:\n",
            "8\n",
            "Division:\n",
            "8.0\n"
          ]
        }
      ]
    },
    {
      "cell_type": "markdown",
      "source": [
        "**2-10 Favorite Number**\n",
        "\n",
        "Use a variable to represent your favorite number. Then, using that variable, create a message that reveals your favorite number. Print that message."
      ],
      "metadata": {
        "id": "R4wWMgc8CFC9"
      }
    },
    {
      "cell_type": "code",
      "source": [
        "# 2.10 Favorite Number\n",
        "\n",
        "fav_num = 42\n",
        "msg = f\"My favorite number is {fav_num}.\"\n",
        "\n",
        "print(msg)"
      ],
      "metadata": {
        "id": "y3EURpBeCNJ6",
        "colab": {
          "base_uri": "https://localhost:8080/"
        },
        "outputId": "80c2d6be-016d-4997-edbe-265021b94538"
      },
      "execution_count": 23,
      "outputs": [
        {
          "output_type": "stream",
          "name": "stdout",
          "text": [
            "My favorite number is 42.\n"
          ]
        }
      ]
    }
  ]
}
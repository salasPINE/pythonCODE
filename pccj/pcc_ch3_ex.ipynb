{
  "nbformat": 4,
  "nbformat_minor": 0,
  "metadata": {
    "colab": {
      "provenance": [],
      "toc_visible": true,
      "authorship_tag": "ABX9TyO56Vyrxk5QPUO6dNpIjtW0",
      "include_colab_link": true
    },
    "kernelspec": {
      "name": "python3",
      "display_name": "Python 3"
    },
    "language_info": {
      "name": "python"
    }
  },
  "cells": [
    {
      "cell_type": "markdown",
      "metadata": {
        "id": "view-in-github",
        "colab_type": "text"
      },
      "source": [
        "<a href=\"https://colab.research.google.com/github/salasPINE/pythonCODE/blob/main/pccj/pcc_ch3_ex.ipynb\" target=\"_parent\"><img src=\"https://colab.research.google.com/assets/colab-badge.svg\" alt=\"Open In Colab\"/></a>"
      ]
    },
    {
      "cell_type": "markdown",
      "source": [
        "# **Chapter 3 Exercises**"
      ],
      "metadata": {
        "id": "EbXSfCYQ85RB"
      }
    },
    {
      "cell_type": "markdown",
      "source": [
        "# p36"
      ],
      "metadata": {
        "id": "vIqEj4T78_UV"
      }
    },
    {
      "cell_type": "markdown",
      "source": [
        "**3-1 Names**\n",
        "\n",
        "Store the names of a few of your friends in a list called names. Print each person’s name by accessing each element in the list, one at a time."
      ],
      "metadata": {
        "id": "hKZ34sMI-io5"
      }
    },
    {
      "cell_type": "code",
      "execution_count": 1,
      "metadata": {
        "id": "8HfOiQHU82p7",
        "outputId": "a7a66742-afad-4547-a74f-16ab9bed58bb",
        "colab": {
          "base_uri": "https://localhost:8080/"
        }
      },
      "outputs": [
        {
          "output_type": "stream",
          "name": "stdout",
          "text": [
            "London\n",
            "Olivia\n",
            "Derek\n",
            "Charlie\n",
            "Kanner\n",
            "Brock\n"
          ]
        }
      ],
      "source": [
        "# 3.1_names_zu.py\n",
        "\n",
        "# list with names\n",
        "names = ['London', 'Olivia', 'Derek', 'Charlie', 'Kanner', 'Brock']\n",
        "\n",
        "# print one item per line\n",
        "print(names[0])\n",
        "print(names[1])\n",
        "print(names[2])\n",
        "print(names[3])\n",
        "print(names[4])\n",
        "print(names[5])"
      ]
    },
    {
      "cell_type": "markdown",
      "source": [
        "**3-2 Greetings**\n",
        "\n",
        "Start with the list you used in Exercise 3-1, but instead of just printing each persons name, print a message to them. The text of each message should be the same, but each message should be personalized with the persons name"
      ],
      "metadata": {
        "id": "inxB6tWa-vh2"
      }
    },
    {
      "cell_type": "code",
      "source": [
        "# 3.2_greetings_zu.py\n",
        "\n",
        "# list of names\n",
        "names = ['London', 'Olivia', 'Derek', 'Charlie', 'Kanner', 'Brock']\n",
        "\n",
        "# variables with welcome message for each person\n",
        "message0 = f\"Welcome to Tech class {names[0]}\"\n",
        "message1 = f\"Welcome to Tech class {names[1]}\"\n",
        "message2 = f\"Welcome to Tech class {names[2]}\"\n",
        "message3 = f\"Welcome to Tech class {names[3]}\"\n",
        "message4 = f\"Welcome to Tech class {names[4]}\"\n",
        "message5 = f\"Welcome to Tech class {names[5]}\"\n",
        "\n",
        "# print each personalized message\n",
        "print(message0)\n",
        "print(message1)\n",
        "print(message2)\n",
        "print(message3)\n",
        "print(message4)\n",
        "print(message5)"
      ],
      "metadata": {
        "id": "tcIYHsHj-Ga4",
        "outputId": "a5c692fb-11fa-4a1a-ba7c-c234eb736c3c",
        "colab": {
          "base_uri": "https://localhost:8080/"
        }
      },
      "execution_count": 2,
      "outputs": [
        {
          "output_type": "stream",
          "name": "stdout",
          "text": [
            "Welcome to Tech class London\n",
            "Welcome to Tech class Olivia\n",
            "Welcome to Tech class Derek\n",
            "Welcome to Tech class Charlie\n",
            "Welcome to Tech class Kanner\n",
            "Welcome to Tech class Brock\n"
          ]
        }
      ]
    },
    {
      "cell_type": "markdown",
      "source": [
        "**3-3 Your Own List**\n",
        "\n",
        "Think of your favorite mode of transportation, such as a motorcycle or a car, and make a list that stores several examples. Use your list to print a series of statements about these items, such as \"I would like to own a Honda motorcycle.\""
      ],
      "metadata": {
        "id": "tbOFj9vq_DI-"
      }
    },
    {
      "cell_type": "code",
      "source": [
        "# 3.3_your_own_list\n",
        "\n",
        "# list\n",
        "transport = ['fiat', 'ebike', 'scooter', 'nissan']\n",
        "\n",
        "# two personalized messages\n",
        "message1 = f\"I would love to own a {transport[0].title()} 500 modern remake\"\n",
        "print(message1)\n",
        "\n",
        "message2 = f\"Having a {transport[2].upper()} to ride to work would be great\"\n",
        "print(message2)"
      ],
      "metadata": {
        "id": "Rw3teboJ-TaQ",
        "outputId": "1bb2bc73-8d9d-4e15-cf87-0dfab5d8557a",
        "colab": {
          "base_uri": "https://localhost:8080/"
        }
      },
      "execution_count": 3,
      "outputs": [
        {
          "output_type": "stream",
          "name": "stdout",
          "text": [
            "I would love to own a Fiat 500 modern remake\n",
            "Having a SCOOTER to ride to work would be great\n"
          ]
        }
      ]
    },
    {
      "cell_type": "markdown",
      "source": [
        "# p42"
      ],
      "metadata": {
        "id": "eTRS-8Jp_QP1"
      }
    },
    {
      "cell_type": "markdown",
      "source": [
        "**3-4 Guest List**\n",
        "\n",
        "If you could invite anyone, living or deceased, to dinner, who would you invite?\n",
        "* Make a list that includes at least three people you’d like to invite to dinner.\n",
        "* Then use your list to print a message to each person, inviting them to dinner."
      ],
      "metadata": {
        "id": "AdKSwpyl_arx"
      }
    },
    {
      "cell_type": "code",
      "source": [
        "# 3.4_GuestList_zu.py\n",
        "\n",
        "# guest list\n",
        "guests = ['mozart', 'ghandi', 'franco']\n",
        "\n",
        "# dinner message\n",
        "dinnermsg = \"you are cordially invited to dinner.\"\n",
        "\n",
        "# print each guest a dinner message\n",
        "print(f\"Mr. {guests[0].title()}, {dinnermsg}\")\n",
        "print(f\"Mr. {guests[1].title()}, {dinnermsg}\")\n",
        "print(f\"Mr. {guests[2].title()}, {dinnermsg}\")\n"
      ],
      "metadata": {
        "id": "0SwgrgoT_WYo",
        "outputId": "0bc67e16-80b1-4caf-ba66-34334c221a36",
        "colab": {
          "base_uri": "https://localhost:8080/"
        }
      },
      "execution_count": 4,
      "outputs": [
        {
          "output_type": "stream",
          "name": "stdout",
          "text": [
            "Mr. Mozart, you are cordially invited to dinner.\n",
            "Mr. Ghandi, you are cordially invited to dinner.\n",
            "Mr. Franco, you are cordially invited to dinner.\n"
          ]
        }
      ]
    },
    {
      "cell_type": "code",
      "source": [
        "guests = ['guido', 'jack', 'lynn']\n",
        "\n",
        "name = guests[0].title()\n",
        "print(f\"{name}, please come to dinner.\")\n",
        "\n",
        "name = guests[1].title()\n",
        "print(f\"{name}, please come to dinner.\")\n",
        "\n",
        "name = guests[2].title()\n",
        "print(f\"{name}, please come to dinner.\")"
      ],
      "metadata": {
        "id": "qiMkYTD-AR7Z",
        "outputId": "bd7477e4-acbf-4c08-9dcc-d33d64adc51f",
        "colab": {
          "base_uri": "https://localhost:8080/"
        }
      },
      "execution_count": 5,
      "outputs": [
        {
          "output_type": "stream",
          "name": "stdout",
          "text": [
            "Guido, please come to dinner.\n",
            "Jack, please come to dinner.\n",
            "Lynn, please come to dinner.\n"
          ]
        }
      ]
    },
    {
      "cell_type": "markdown",
      "source": [
        "**3-5 Changing Guest List**\n",
        "\n",
        "You just heard that one of your guests can’t make the dinner, so you need to send out a new set of invitations. You’ll have to think of someone else to invite.\n",
        "\n",
        "* Start with your program from Exercise 3-4. Add a print() call at the end of\n",
        "your program, stating the name of the guest who can’t make it.\n",
        "* Modify your list, replacing the name of the guest who can’t make it with the\n",
        "name of the new person you are inviting.\n",
        "* Print a second set of invitation messages, one for each person who is still in\n",
        "your list."
      ],
      "metadata": {
        "id": "00XB5uez_2uz"
      }
    },
    {
      "cell_type": "code",
      "source": [
        "# 3.5_ChangingGuestList_zu.py\n",
        "\n",
        "# guest list\n",
        "guests = ['mozart', 'ghandi', 'franco']\n",
        "\n",
        "# dinner message\n",
        "dinnermsg = \"you are cordially invited to dinner.\"\n",
        "\n",
        "# print each guest a dinner message\n",
        "print(f\"Mr. {guests[0].title()}, {dinnermsg}\")\n",
        "print(f\"Mr. {guests[1].title()}, {dinnermsg}\")\n",
        "print(f\"Mr. {guests[2].title()}, {dinnermsg}\")\n",
        "\n",
        "print()\n",
        "# print the person who cannot make it, removed from end of list\n",
        "print(f\"Mr. {guests[-1].title()} cannot make it to dinner\")\n",
        "\n",
        "# remove the last person from the list and replace them\n",
        "guests[-1] = 'beethoven'\n",
        "\n",
        "print()\n",
        "\n",
        "# print the invitations again\n",
        "print(f\"Mr. {guests[0].title()}, {dinnermsg}\")\n",
        "print(f\"Mr. {guests[1].title()}, {dinnermsg}\")\n",
        "print(f\"Mr. {guests[2].title()}, {dinnermsg}\")\n"
      ],
      "metadata": {
        "id": "4vDJ_F2GARPP",
        "outputId": "de7e8ddf-3940-4d68-ed99-37741e4fbb1a",
        "colab": {
          "base_uri": "https://localhost:8080/"
        }
      },
      "execution_count": 6,
      "outputs": [
        {
          "output_type": "stream",
          "name": "stdout",
          "text": [
            "Mr. Mozart, you are cordially invited to dinner.\n",
            "Mr. Ghandi, you are cordially invited to dinner.\n",
            "Mr. Franco, you are cordially invited to dinner.\n",
            "\n",
            "Mr. Franco cannot make it to dinner\n",
            "\n",
            "Mr. Mozart, you are cordially invited to dinner.\n",
            "Mr. Ghandi, you are cordially invited to dinner.\n",
            "Mr. Beethoven, you are cordially invited to dinner.\n"
          ]
        }
      ]
    },
    {
      "cell_type": "code",
      "source": [
        "# Invite some people to dinner.\n",
        "guests = ['guido van rossum', 'jack turner', 'lynn hill']\n",
        "\n",
        "name = guests[0].title()\n",
        "print(f\"{name}, please come to dinner.\")\n",
        "\n",
        "name = guests[1].title()\n",
        "print(f\"{name}, please come to dinner.\")\n",
        "\n",
        "name = guests[2].title()\n",
        "print(f\"{name}, please come to dinner.\")\n",
        "\n",
        "name = guests[1].title()\n",
        "print(f\"\\nSorry, {name} can't make it to dinner.\")\n",
        "\n",
        "# Jack can't make it! Let's invite Gary instead.\n",
        "del(guests[1])\n",
        "guests.insert(1, 'gary snyder')\n",
        "\n",
        "# Print the invitations again.\n",
        "name = guests[0].title()\n",
        "print(f\"\\n{name}, please come to dinner.\")\n",
        "\n",
        "name = guests[1].title()\n",
        "print(f\"{name}, please come to dinner.\")\n",
        "\n",
        "name = guests[2].title()\n",
        "print(f\"{name}, please come to dinner.\")"
      ],
      "metadata": {
        "id": "ZgB6aBNLAsGW",
        "outputId": "c90a8a37-546a-44ad-de6d-2cc73b13c6f0",
        "colab": {
          "base_uri": "https://localhost:8080/"
        }
      },
      "execution_count": 7,
      "outputs": [
        {
          "output_type": "stream",
          "name": "stdout",
          "text": [
            "Guido Van Rossum, please come to dinner.\n",
            "Jack Turner, please come to dinner.\n",
            "Lynn Hill, please come to dinner.\n",
            "\n",
            "Sorry, Jack Turner can't make it to dinner.\n",
            "\n",
            "Guido Van Rossum, please come to dinner.\n",
            "Gary Snyder, please come to dinner.\n",
            "Lynn Hill, please come to dinner.\n"
          ]
        }
      ]
    },
    {
      "cell_type": "markdown",
      "source": [
        "**3-6 More Guests**\n",
        "\n",
        "You just found a bigger dinner table, so now more space is available. Think of three more guests to invite to dinner.\n",
        "\n",
        "* Start with your program from Exercise 3-5. Add a print() call to the end of your program, informing people that you found a bigger table.\n",
        "* Use insert() to add one new guest to the beginning of your list.\n",
        "* Use insert() to add one new guest to the middle of your list.\n",
        "* Use append() to add one new guest to the end of your list.\n",
        "* Print a new set of invitation messages, one for each person in your list.\n",
        "\n"
      ],
      "metadata": {
        "id": "cgeMq8NVAZ8v"
      }
    },
    {
      "cell_type": "code",
      "source": [
        "# 3.6_MoreGuests_zu.py\n",
        "\n",
        "# guest list\n",
        "guests = ['mozart', 'ghandi', 'franco']\n",
        "\n",
        "# dinner message\n",
        "dinnermsg = \"you are cordially invited to dinner.\"\n",
        "\n",
        "# print each guest a dinner message\n",
        "print(f\"Mr. {guests[0].title()}, {dinnermsg}\")\n",
        "print(f\"Mr. {guests[1].title()}, {dinnermsg}\")\n",
        "print(f\"Mr. {guests[2].title()}, {dinnermsg}\")\n",
        "\n",
        "print()\n",
        "# print the person who cannot make it, removed from end of list\n",
        "print(f\"Mr. {guests[-1].title()} cannot make it to dinner\")\n",
        "\n",
        "# remove the last person from the list and replace them\n",
        "guests[-1] = 'beethoven'\n",
        "\n",
        "print()\n",
        "\n",
        "# print the invitations again\n",
        "print(f\"Mr. {guests[0].title()}, {dinnermsg}\")\n",
        "print(f\"Mr. {guests[1].title()}, {dinnermsg}\")\n",
        "print(f\"Mr. {guests[2].title()}, {dinnermsg}\")\n",
        "\n",
        "print()\n",
        "# inform the guests that we now have a bigger table\n",
        "print(\"Good news! We have found a bigger table for dinner and will be adding additional guests.\")\n",
        "\n",
        "# insert and append the new guests to our list\n",
        "guests.insert(0, 'vivaldi')\n",
        "guests.insert(2, 'shostakovich')\n",
        "guests.append('lenin')\n",
        "\n",
        "# check to make sure our list is OK\n",
        "# print(guests)\n",
        "# print(len(guests))\n",
        "\n",
        "print()\n",
        "# print the invitations again\n",
        "print(f\"Mr. {guests[0].title()}, {dinnermsg}\")\n",
        "print(f\"Mr. {guests[1].title()}, {dinnermsg}\")\n",
        "print(f\"Mr. {guests[2].title()}, {dinnermsg}\")\n",
        "print(f\"Mr. {guests[3].title()}, {dinnermsg}\")\n",
        "print(f\"Mr. {guests[4].title()}, {dinnermsg}\")\n",
        "print(f\"Mr. {guests[5].title()}, {dinnermsg}\")\n"
      ],
      "metadata": {
        "id": "e9UNuAgXAaJj",
        "outputId": "526b8019-20a3-4d90-9b80-56ae7a5a892a",
        "colab": {
          "base_uri": "https://localhost:8080/"
        }
      },
      "execution_count": 8,
      "outputs": [
        {
          "output_type": "stream",
          "name": "stdout",
          "text": [
            "Mr. Mozart, you are cordially invited to dinner.\n",
            "Mr. Ghandi, you are cordially invited to dinner.\n",
            "Mr. Franco, you are cordially invited to dinner.\n",
            "\n",
            "Mr. Franco cannot make it to dinner\n",
            "\n",
            "Mr. Mozart, you are cordially invited to dinner.\n",
            "Mr. Ghandi, you are cordially invited to dinner.\n",
            "Mr. Beethoven, you are cordially invited to dinner.\n",
            "\n",
            "Good news! We have found a bigger table for dinner and will be adding additional guests.\n",
            "\n",
            "Mr. Vivaldi, you are cordially invited to dinner.\n",
            "Mr. Mozart, you are cordially invited to dinner.\n",
            "Mr. Shostakovich, you are cordially invited to dinner.\n",
            "Mr. Ghandi, you are cordially invited to dinner.\n",
            "Mr. Beethoven, you are cordially invited to dinner.\n",
            "Mr. Lenin, you are cordially invited to dinner.\n"
          ]
        }
      ]
    },
    {
      "cell_type": "code",
      "source": [
        "# Invite some people to dinner.\n",
        "guests = ['guido van rossum', 'jack turner', 'lynn hill']\n",
        "\n",
        "name = guests[0].title()\n",
        "print(f\"{name}, please come to dinner.\")\n",
        "\n",
        "name = guests[1].title()\n",
        "print(f\"{name}, please come to dinner.\")\n",
        "\n",
        "name = guests[2].title()\n",
        "print(f\"{name}, please come to dinner.\")\n",
        "\n",
        "name = guests[1].title()\n",
        "print(f\"\\nSorry, {name} can't make it to dinner.\")\n",
        "\n",
        "# Jack can't make it! Let's invite Gary instead.\n",
        "del(guests[1])\n",
        "guests.insert(1, 'gary snyder')\n",
        "\n",
        "# Print the invitations again.\n",
        "name = guests[0].title()\n",
        "print(f\"\\n{name}, please come to dinner.\")\n",
        "\n",
        "name = guests[1].title()\n",
        "print(f\"{name}, please come to dinner.\")\n",
        "\n",
        "name = guests[2].title()\n",
        "print(f\"{name}, please come to dinner.\")\n",
        "\n",
        "# We got a bigger table, so let's add some more people to the list.\n",
        "print(\"\\nWe got a bigger table!\")\n",
        "guests.insert(0, 'frida kahlo')\n",
        "guests.insert(2, 'reinhold messner')\n",
        "guests.append('elizabeth peratrovich')\n",
        "\n",
        "name = guests[0].title()\n",
        "print(f\"{name}, please come to dinner.\")\n",
        "\n",
        "name = guests[1].title()\n",
        "print(f\"{name}, please come to dinner.\")\n",
        "\n",
        "name = guests[2].title()\n",
        "print(f\"{name}, please come to dinner.\")\n",
        "\n",
        "name = guests[3].title()\n",
        "print(f\"{name}, please come to dinner.\")\n",
        "\n",
        "name = guests[4].title()\n",
        "print(f\"{name}, please come to dinner.\")\n",
        "\n",
        "name = guests[5].title()\n",
        "print(f\"{name}, please come to dinner.\")"
      ],
      "metadata": {
        "id": "PeUfAd4vDJNu",
        "outputId": "9af19464-5946-4ebb-aed4-6f7ed83b2d6d",
        "colab": {
          "base_uri": "https://localhost:8080/"
        }
      },
      "execution_count": 9,
      "outputs": [
        {
          "output_type": "stream",
          "name": "stdout",
          "text": [
            "Guido Van Rossum, please come to dinner.\n",
            "Jack Turner, please come to dinner.\n",
            "Lynn Hill, please come to dinner.\n",
            "\n",
            "Sorry, Jack Turner can't make it to dinner.\n",
            "\n",
            "Guido Van Rossum, please come to dinner.\n",
            "Gary Snyder, please come to dinner.\n",
            "Lynn Hill, please come to dinner.\n",
            "\n",
            "We got a bigger table!\n",
            "Frida Kahlo, please come to dinner.\n",
            "Guido Van Rossum, please come to dinner.\n",
            "Reinhold Messner, please come to dinner.\n",
            "Gary Snyder, please come to dinner.\n",
            "Lynn Hill, please come to dinner.\n",
            "Elizabeth Peratrovich, please come to dinner.\n"
          ]
        }
      ]
    },
    {
      "cell_type": "markdown",
      "source": [
        "**3-7 Shrinking Guest List**\n",
        "\n",
        "You just found out that your new dinner table won’t arrive in time for the dinner, and now you have space for only two guests.\n",
        "\n",
        "* Start with your program from Exercise 3-6. Add a new line that prints a message saying that you can invite only two people for dinner.\n",
        "* Use pop() to remove guests from your list one at a time until only two names remain in your list. Each time you pop a name from your list, print a message to that person letting them know you’re sorry you can’t invite them to dinner.\n",
        "* Print a message to each of the two people still on your list, letting them know they’re still invited.\n",
        "* Use del to remove the last two names from your list, so you have an empty list. Print your list to make sure you actually have an empty list at the end of **your** program."
      ],
      "metadata": {
        "id": "BBhMyoZ1A9i6"
      }
    },
    {
      "cell_type": "code",
      "source": [
        "# 3.7_ShrinkingGuestList_zu.py\n",
        "\n",
        "# Code from 3.6\n",
        "# guest list\n",
        "guests = ['mozart', 'ghandi', 'franco']\n",
        "\n",
        "# dinner message\n",
        "dinnermsg = \"you are cordially invited to dinner.\"\n",
        "\n",
        "# print each guest a dinner message\n",
        "print(f\"Mr. {guests[0].title()}, {dinnermsg}\")\n",
        "print(f\"Mr. {guests[1].title()}, {dinnermsg}\")\n",
        "print(f\"Mr. {guests[2].title()}, {dinnermsg}\")\n",
        "\n",
        "print()\n",
        "# print the person who cannot make it, removed from end of list\n",
        "print(f\"Mr. {guests[-1].title()} cannot make it to dinner\")\n",
        "\n",
        "# remove the last person from the list and replace them\n",
        "guests[-1] = 'beethoven'\n",
        "\n",
        "print()\n",
        "\n",
        "# print the invitations again\n",
        "print(f\"Mr. {guests[0].title()}, {dinnermsg}\")\n",
        "print(f\"Mr. {guests[1].title()}, {dinnermsg}\")\n",
        "print(f\"Mr. {guests[2].title()}, {dinnermsg}\")\n",
        "\n",
        "print()\n",
        "# inform the guests that we now have a bigger table\n",
        "print(\"Good news! We have found a bigger table for dinner and will be adding additional guests.\")\n",
        "\n",
        "# insert and append the new guests to our list\n",
        "guests.insert(0, 'vivaldi')\n",
        "guests.insert(2, 'shostakovich')\n",
        "guests.append('lenin')\n",
        "\n",
        "# check to make sure our list is OK\n",
        "# print(guests)\n",
        "# print(len(guests))\n",
        "\n",
        "print()\n",
        "# print the invitations again\n",
        "print(f\"Mr. {guests[0].title()}, {dinnermsg}\")\n",
        "print(f\"Mr. {guests[1].title()}, {dinnermsg}\")\n",
        "print(f\"Mr. {guests[2].title()}, {dinnermsg}\")\n",
        "print(f\"Mr. {guests[3].title()}, {dinnermsg}\")\n",
        "print(f\"Mr. {guests[4].title()}, {dinnermsg}\")\n",
        "print(f\"Mr. {guests[5].title()}, {dinnermsg}\")\n",
        "\n",
        "\n",
        "# 3.7 New Code\n",
        "\n",
        "print()\n",
        "print(\"Unfortunately, only two people will be able to attend dinner now.\")\n",
        "\n",
        "print()\n",
        "noguest = guests.pop(0)\n",
        "print(f\"{noguest.title()}, you are no longer invited to dinner.\")\n",
        "noguest = guests.pop(0)\n",
        "print(f\"{noguest.title()}, you are no longer invited to dinner.\")\n",
        "noguest = guests.pop(0)\n",
        "print(f\"{noguest.title()}, you are no longer invited to dinner.\")\n",
        "noguest = guests.pop(0)\n",
        "print(f\"{noguest.title()}, you are no longer invited to dinner.\")\n",
        "\n",
        "# to check my list and how many are in it\n",
        "# print(guests)\n",
        "# print(len(guests))\n",
        "\n",
        "# dinner message\n",
        "dinnermsg2 = \"you are still invited to dinner.\"\n",
        "\n",
        "print()\n",
        "# print the invitations again\n",
        "print(f\"Mr. {guests[0].title()}, {dinnermsg2}\")\n",
        "print(f\"Mr. {guests[1].title()}, {dinnermsg2}\")\n",
        "\n",
        "\n",
        "# delete the last two guests\n",
        "del guests[0]\n",
        "del guests[0]\n",
        "\n",
        "# empty list proof\n",
        "print(guests)"
      ],
      "metadata": {
        "id": "lC7CKBnxBO6i",
        "outputId": "22c77a22-e49b-41cc-8dca-301a91e4ee4a",
        "colab": {
          "base_uri": "https://localhost:8080/"
        }
      },
      "execution_count": 10,
      "outputs": [
        {
          "output_type": "stream",
          "name": "stdout",
          "text": [
            "Mr. Mozart, you are cordially invited to dinner.\n",
            "Mr. Ghandi, you are cordially invited to dinner.\n",
            "Mr. Franco, you are cordially invited to dinner.\n",
            "\n",
            "Mr. Franco cannot make it to dinner\n",
            "\n",
            "Mr. Mozart, you are cordially invited to dinner.\n",
            "Mr. Ghandi, you are cordially invited to dinner.\n",
            "Mr. Beethoven, you are cordially invited to dinner.\n",
            "\n",
            "Good news! We have found a bigger table for dinner and will be adding additional guests.\n",
            "\n",
            "Mr. Vivaldi, you are cordially invited to dinner.\n",
            "Mr. Mozart, you are cordially invited to dinner.\n",
            "Mr. Shostakovich, you are cordially invited to dinner.\n",
            "Mr. Ghandi, you are cordially invited to dinner.\n",
            "Mr. Beethoven, you are cordially invited to dinner.\n",
            "Mr. Lenin, you are cordially invited to dinner.\n",
            "\n",
            "Unfortunately, only two people will be able to attend dinner now.\n",
            "\n",
            "Vivaldi, you are no longer invited to dinner.\n",
            "Mozart, you are no longer invited to dinner.\n",
            "Shostakovich, you are no longer invited to dinner.\n",
            "Ghandi, you are no longer invited to dinner.\n",
            "\n",
            "Mr. Beethoven, you are still invited to dinner.\n",
            "Mr. Lenin, you are still invited to dinner.\n",
            "[]\n"
          ]
        }
      ]
    },
    {
      "cell_type": "code",
      "source": [
        "# Invite some people to dinner.\n",
        "guests = ['guido van rossum', 'jack turner', 'lynn hill']\n",
        "\n",
        "name = guests[0].title()\n",
        "print(f\"{name}, please come to dinner.\")\n",
        "\n",
        "name = guests[1].title()\n",
        "print(f\"{name}, please come to dinner.\")\n",
        "\n",
        "name = guests[2].title()\n",
        "print(f\"{name}, please come to dinner.\")\n",
        "\n",
        "name = guests[1].title()\n",
        "print(f\"\\nSorry, {name} can't make it to dinner.\")\n",
        "\n",
        "# Jack can't make it! Let's invite Gary instead.\n",
        "del(guests[1])\n",
        "guests.insert(1, 'gary snyder')\n",
        "\n",
        "# Print the invitations again.\n",
        "name = guests[0].title()\n",
        "print(f\"\\n{name}, please come to dinner.\")\n",
        "\n",
        "name = guests[1].title()\n",
        "print(f\"{name}, please come to dinner.\")\n",
        "\n",
        "name = guests[2].title()\n",
        "print(f\"{name}, please come to dinner.\")\n",
        "\n",
        "# We got a bigger table, so let's add some more people to the list.\n",
        "print(\"\\nWe got a bigger table!\")\n",
        "guests.insert(0, 'frida kahlo')\n",
        "guests.insert(2, 'reinhold messner')\n",
        "guests.append('elizabeth peratrovich')\n",
        "\n",
        "name = guests[0].title()\n",
        "print(f\"{name}, please come to dinner.\")\n",
        "\n",
        "name = guests[1].title()\n",
        "print(f\"{name}, please come to dinner.\")\n",
        "\n",
        "name = guests[2].title()\n",
        "print(f\"{name}, please come to dinner.\")\n",
        "\n",
        "name = guests[3].title()\n",
        "print(f\"{name}, please come to dinner.\")\n",
        "\n",
        "name = guests[4].title()\n",
        "print(f\"{name}, please come to dinner.\")\n",
        "\n",
        "name = guests[5].title()\n",
        "print(f\"{name}, please come to dinner.\")\n",
        "\n",
        "# Oh no, the table won't arrive on time!\n",
        "print(\"\\nSorry, we can only invite two people to dinner.\")\n",
        "\n",
        "name = guests.pop()\n",
        "print(f\"Sorry, {name.title()} there's no room at the table.\")\n",
        "\n",
        "name = guests.pop()\n",
        "print(f\"Sorry, {name.title()} there's no room at the table.\")\n",
        "\n",
        "name = guests.pop()\n",
        "print(f\"Sorry, {name.title()} there's no room at the table.\")\n",
        "\n",
        "name = guests.pop()\n",
        "print(f\"Sorry, {name.title()} there's no room at the table.\")\n",
        "\n",
        "# There should be two people left. Let's invite them.\n",
        "name = guests[0].title()\n",
        "print(f\"{name}, please come to dinner.\")\n",
        "\n",
        "name = guests[1].title()\n",
        "print(f\"{name}, please come to dinner.\")\n",
        "\n",
        "# Empty out the list.\n",
        "del(guests[0])\n",
        "del(guests[0])\n",
        "\n",
        "# Prove the list is empty.\n",
        "print(guests)"
      ],
      "metadata": {
        "id": "a-4GiKyiF1hD",
        "outputId": "c53107bd-6d9e-4485-a420-6435869d0b28",
        "colab": {
          "base_uri": "https://localhost:8080/"
        }
      },
      "execution_count": 11,
      "outputs": [
        {
          "output_type": "stream",
          "name": "stdout",
          "text": [
            "Guido Van Rossum, please come to dinner.\n",
            "Jack Turner, please come to dinner.\n",
            "Lynn Hill, please come to dinner.\n",
            "\n",
            "Sorry, Jack Turner can't make it to dinner.\n",
            "\n",
            "Guido Van Rossum, please come to dinner.\n",
            "Gary Snyder, please come to dinner.\n",
            "Lynn Hill, please come to dinner.\n",
            "\n",
            "We got a bigger table!\n",
            "Frida Kahlo, please come to dinner.\n",
            "Guido Van Rossum, please come to dinner.\n",
            "Reinhold Messner, please come to dinner.\n",
            "Gary Snyder, please come to dinner.\n",
            "Lynn Hill, please come to dinner.\n",
            "Elizabeth Peratrovich, please come to dinner.\n",
            "\n",
            "Sorry, we can only invite two people to dinner.\n",
            "Sorry, Elizabeth Peratrovich there's no room at the table.\n",
            "Sorry, Lynn Hill there's no room at the table.\n",
            "Sorry, Gary Snyder there's no room at the table.\n",
            "Sorry, Reinhold Messner there's no room at the table.\n",
            "Frida Kahlo, please come to dinner.\n",
            "Guido Van Rossum, please come to dinner.\n",
            "[]\n"
          ]
        }
      ]
    },
    {
      "cell_type": "markdown",
      "source": [
        "# p45"
      ],
      "metadata": {
        "id": "Usgdu9nFBjIO"
      }
    },
    {
      "cell_type": "markdown",
      "source": [
        "**3-8 Seeing the World**\n",
        "\n",
        "Think of at least five places in the world you’d like to visit.\n",
        "\n",
        "* Store the locations in a list. Make sure the list is not in alphabetical order.\n",
        "* Print your list in its original order. Don’t worry about printing the list neatly; just print it as a raw Python list.\n",
        "* Use sorted() to print your list in alphabetical order without modifying the actual list.\n",
        "* Show that your list is still in its original order by printing it.\n",
        "* Use sorted() to print your list in reverse-alphabetical order without changing the order of the original list.\n",
        "* Show that your list is still in its original order by printing it again.\n",
        "* Use reverse() to change the order of your list. Print the list to show that its order has changed.\n",
        "* Use reverse() to change the order of your list again. Print the list to show it’s back to its original order.\n",
        "* Use sort() to change your list so it’s stored in alphabetical order. Print the list to show that its order has been changed.\n",
        "* Use sort() to change your list so it’s stored in reverse-alphabetical order. Print the list to show that its order has changed.\n"
      ],
      "metadata": {
        "id": "A-r-Zl1HBmXw"
      }
    },
    {
      "cell_type": "code",
      "source": [
        "# 3.8_SeeingTheWorld_zu.py\n",
        "\n",
        "places = ['sydney', 'tokyo', 'budapest', 'moscow', 'london']\n",
        "\n",
        "print(\"Original order:\")\n",
        "print(places)\n",
        "\n",
        "print(\"\\nAlphabetical:\")\n",
        "print(sorted(places))\n",
        "print(\"\\nOriginal order:\")\n",
        "print(places)\n",
        "\n",
        "print(\"\\nReverse alphabetical:\")\n",
        "print(sorted(places, reverse=True))\n",
        "print(\"\\nOriginal order:\")\n",
        "print(places)\n",
        "\n",
        "print(\"\\nReversed:\")\n",
        "places.reverse()\n",
        "print(places)\n",
        "\n",
        "print(\"\\nOriginal order:\")\n",
        "places.reverse()\n",
        "print(places)\n",
        "\n",
        "print(\"\\nAlphabetical\")\n",
        "places.sort()\n",
        "print(places)\n",
        "\n",
        "print(\"\\nReverse alphabetical:\")\n",
        "places.sort(reverse=True)\n",
        "print(places)"
      ],
      "metadata": {
        "id": "yYzhntZjB_9W",
        "outputId": "bd941f09-fc11-418d-adbf-3dff01bfdc26",
        "colab": {
          "base_uri": "https://localhost:8080/"
        }
      },
      "execution_count": 12,
      "outputs": [
        {
          "output_type": "stream",
          "name": "stdout",
          "text": [
            "Original order:\n",
            "['sydney', 'tokyo', 'budapest', 'moscow', 'london']\n",
            "\n",
            "Alphabetical:\n",
            "['budapest', 'london', 'moscow', 'sydney', 'tokyo']\n",
            "\n",
            "Original order:\n",
            "['sydney', 'tokyo', 'budapest', 'moscow', 'london']\n",
            "\n",
            "Reverse alphabetical:\n",
            "['tokyo', 'sydney', 'moscow', 'london', 'budapest']\n",
            "\n",
            "Original order:\n",
            "['sydney', 'tokyo', 'budapest', 'moscow', 'london']\n",
            "\n",
            "Reversed:\n",
            "['london', 'moscow', 'budapest', 'tokyo', 'sydney']\n",
            "\n",
            "Original order:\n",
            "['sydney', 'tokyo', 'budapest', 'moscow', 'london']\n",
            "\n",
            "Alphabetical\n",
            "['budapest', 'london', 'moscow', 'sydney', 'tokyo']\n",
            "\n",
            "Reverse alphabetical:\n",
            "['tokyo', 'sydney', 'moscow', 'london', 'budapest']\n"
          ]
        }
      ]
    },
    {
      "cell_type": "code",
      "source": [
        "locations = ['himalaya', 'andes', 'tierra del fuego', 'labrador', 'guam']\n",
        "\n",
        "print(\"Original order:\")\n",
        "print(locations)\n",
        "\n",
        "print(\"\\nAlphabetical:\")\n",
        "print(sorted(locations))\n",
        "\n",
        "print(\"\\nOriginal order:\")\n",
        "print(locations)\n",
        "\n",
        "print(\"\\nReverse alphabetical:\")\n",
        "print(sorted(locations, reverse=True))\n",
        "\n",
        "print(\"\\nOriginal order:\")\n",
        "print(locations)\n",
        "\n",
        "print(\"\\nReversed:\")\n",
        "locations.reverse()\n",
        "print(locations)\n",
        "\n",
        "print(\"\\nOriginal order:\")\n",
        "locations.reverse()\n",
        "print(locations)\n",
        "\n",
        "print(\"\\nAlphabetical\")\n",
        "locations.sort()\n",
        "print(locations)\n",
        "\n",
        "print(\"\\nReverse alphabetical\")\n",
        "locations.sort(reverse=True)\n",
        "print(locations)"
      ],
      "metadata": {
        "id": "I5p1QnR1IlJL",
        "outputId": "6781eeca-28a7-483e-eeae-1c7960465db5",
        "colab": {
          "base_uri": "https://localhost:8080/"
        }
      },
      "execution_count": 13,
      "outputs": [
        {
          "output_type": "stream",
          "name": "stdout",
          "text": [
            "Original order:\n",
            "['himalaya', 'andes', 'tierra del fuego', 'labrador', 'guam']\n",
            "\n",
            "Alphabetical:\n",
            "['andes', 'guam', 'himalaya', 'labrador', 'tierra del fuego']\n",
            "\n",
            "Original order:\n",
            "['himalaya', 'andes', 'tierra del fuego', 'labrador', 'guam']\n",
            "\n",
            "Reverse alphabetical:\n",
            "['tierra del fuego', 'labrador', 'himalaya', 'guam', 'andes']\n",
            "\n",
            "Original order:\n",
            "['himalaya', 'andes', 'tierra del fuego', 'labrador', 'guam']\n",
            "\n",
            "Reversed:\n",
            "['guam', 'labrador', 'tierra del fuego', 'andes', 'himalaya']\n",
            "\n",
            "Original order:\n",
            "['himalaya', 'andes', 'tierra del fuego', 'labrador', 'guam']\n",
            "\n",
            "Alphabetical\n",
            "['andes', 'guam', 'himalaya', 'labrador', 'tierra del fuego']\n",
            "\n",
            "Reverse alphabetical\n",
            "['tierra del fuego', 'labrador', 'himalaya', 'guam', 'andes']\n"
          ]
        }
      ]
    },
    {
      "cell_type": "markdown",
      "source": [
        "**3-9 Dinner Guests**\n",
        "\n",
        "Working with one of the programs from Exercises 3-4 through 3-7 (pages 41–42), use len() to print a message indicating the number of people you’re inviting to dinner."
      ],
      "metadata": {
        "id": "R4wWMgc8CFC9"
      }
    },
    {
      "cell_type": "code",
      "source": [
        "# 3.9_DinnerGuests_zu.py\n",
        "\n",
        "# guest list\n",
        "guests = ['mozart', 'ghandi', 'franco']\n",
        "\n",
        "# dinner message\n",
        "dinnermsg = \"you are cordially invited to dinner.\"\n",
        "\n",
        "# print each guest a dinner message\n",
        "print(f\"Mr. {guests[0].title()}, {dinnermsg}\")\n",
        "print(f\"Mr. {guests[1].title()}, {dinnermsg}\")\n",
        "print(f\"Mr. {guests[2].title()}, {dinnermsg}\")\n",
        "\n",
        "# how many are coming?\n",
        "print(f\"There are {len(guests)} guests coming to dinner.\")"
      ],
      "metadata": {
        "id": "y3EURpBeCNJ6",
        "colab": {
          "base_uri": "https://localhost:8080/"
        },
        "outputId": "b616d4ac-f74f-4e50-f487-9e23cfb068eb"
      },
      "execution_count": 14,
      "outputs": [
        {
          "output_type": "stream",
          "name": "stdout",
          "text": [
            "Mr. Mozart, you are cordially invited to dinner.\n",
            "Mr. Ghandi, you are cordially invited to dinner.\n",
            "Mr. Franco, you are cordially invited to dinner.\n",
            "There are 3 guests coming to dinner.\n"
          ]
        }
      ]
    },
    {
      "cell_type": "markdown",
      "source": [
        "**3-10 Every Function**\n",
        "\n",
        "Think of things you could store in a list. For example, you could make a list of mountains, rivers, countries, cities, languages, or anything else you’d like. Write a program that creates a list containing these items and then uses each function introduced in this chapter at least once."
      ],
      "metadata": {
        "id": "zHu0LoINCP_V"
      }
    },
    {
      "cell_type": "code",
      "source": [
        "# 3.10_EveryFunction_zu.py\n",
        "\n"
      ],
      "metadata": {
        "id": "0MMDa6IhCad1"
      },
      "execution_count": 15,
      "outputs": []
    }
  ]
}